{
  "nbformat": 4,
  "nbformat_minor": 0,
  "metadata": {
    "colab": {
      "name": "CS230: DL Projects Scraper.ipynb",
      "provenance": [],
      "collapsed_sections": [],
      "authorship_tag": "ABX9TyN0To8bftkDbPNdWzTg/C5Z",
      "include_colab_link": true
    },
    "kernelspec": {
      "name": "python3",
      "display_name": "Python 3"
    },
    "language_info": {
      "name": "python"
    }
  },
  "cells": [
    {
      "cell_type": "markdown",
      "metadata": {
        "id": "view-in-github",
        "colab_type": "text"
      },
      "source": [
        "<a href=\"https://colab.research.google.com/github/ahmedlila/Web-Scraping-Notebooks/blob/main/CS230%20-%20DL%20Projects%20Scraper.ipynb\" target=\"_parent\"><img src=\"https://colab.research.google.com/assets/colab-badge.svg\" alt=\"Open In Colab\"/></a>"
      ]
    },
    {
      "cell_type": "markdown",
      "source": [
        "### Import Libraries Needed "
      ],
      "metadata": {
        "id": "spO7EfctG9hB"
      }
    },
    {
      "cell_type": "code",
      "source": [
        "pip install validators"
      ],
      "metadata": {
        "colab": {
          "base_uri": "https://localhost:8080/"
        },
        "id": "eBCIXRGGA33-",
        "outputId": "9777dc5a-ec4c-4aaa-d5a1-32ab0f29184c"
      },
      "execution_count": 92,
      "outputs": [
        {
          "output_type": "stream",
          "name": "stdout",
          "text": [
            "Requirement already satisfied: validators in /usr/local/lib/python3.7/dist-packages (0.19.0)\n",
            "Requirement already satisfied: decorator>=3.4.0 in /usr/local/lib/python3.7/dist-packages (from validators) (4.4.2)\n"
          ]
        }
      ]
    },
    {
      "cell_type": "code",
      "source": [
        "import validators\n",
        "from validators import ValidationFailure\n",
        "from urllib.request import urlopen\n",
        "from bs4 import BeautifulSoup\n",
        "import pandas as pd\n",
        "from tabulate import tabulate\n",
        "from collections import Counter\n",
        "from nltk.stem import PorterStemmer\n",
        "from IPython.display import HTML"
      ],
      "metadata": {
        "id": "MsZb2X7eHBYv"
      },
      "execution_count": 93,
      "outputs": []
    },
    {
      "cell_type": "markdown",
      "source": [
        "### Helpers"
      ],
      "metadata": {
        "id": "HjNG1iTCN0xv"
      }
    },
    {
      "cell_type": "code",
      "source": [
        "# Function source code: https://miguendes.me/how-to-check-if-a-string-is-a-valid-url-in-python\n",
        "def is_string_an_url(url_string: str) -> bool:\n",
        "    result = validators.url(url_string)\n",
        "    if isinstance(result, ValidationFailure):\n",
        "        return False\n",
        "    return result"
      ],
      "metadata": {
        "id": "y006-a_1Bdus"
      },
      "execution_count": 94,
      "outputs": []
    },
    {
      "cell_type": "code",
      "source": [
        "base_directory = \"https://cs230.stanford.edu/past-projects/\"\n",
        "html = urlopen(base_directory)\n",
        "bsObj = BeautifulSoup(html, features=\"html.parser\")\n",
        "project_links, project_names = list(), list()\n",
        "\n",
        "for project_name in bsObj.findAll(\"strong\"):\n",
        "    project_name_text = project_name.get_text()\n",
        "    link = project_name.find_next_siblings(\"a\")\n",
        "\n",
        "    if link:  # if list is not empty\n",
        "        #get the report and check if the url is ok \n",
        "        path = link[0].attrs['href']\n",
        "        link_text = link[0].get_text()\n",
        "        html = is_string_an_url(path)\n",
        "\n",
        "        if link_text =='report':  # select reports only\n",
        "            if html:\n",
        "                project_links.append(path)\n",
        "                project_names.append(project_name_text)\n",
        "            else:\n",
        "                project_links.append(base_directory+path)\n",
        "                project_names.append(project_name_text)"
      ],
      "metadata": {
        "id": "amtSzROZ3tao"
      },
      "execution_count": 95,
      "outputs": []
    },
    {
      "cell_type": "code",
      "source": [
        "# TEST\n",
        "project_links[3]"
      ],
      "metadata": {
        "colab": {
          "base_uri": "https://localhost:8080/",
          "height": 36
        },
        "id": "X5Ku-FwEC9Je",
        "outputId": "a0fa5cff-4f05-49fa-bf3a-6f812e5a5ae4"
      },
      "execution_count": 96,
      "outputs": [
        {
          "output_type": "execute_result",
          "data": {
            "text/plain": [
              "'http://cs230.stanford.edu/projects_fall_2021/reports/102730335.pdf'"
            ],
            "application/vnd.google.colaboratory.intrinsic+json": {
              "type": "string"
            }
          },
          "metadata": {},
          "execution_count": 96
        }
      ]
    },
    {
      "cell_type": "code",
      "source": [
        "# Creat Dataframe\n",
        "df = pd.DataFrame({'Project Name': project_names, \n",
        "                   'Project Link': project_links})"
      ],
      "metadata": {
        "id": "nYeiTUKkC90Y"
      },
      "execution_count": 97,
      "outputs": []
    },
    {
      "cell_type": "code",
      "source": [
        "#Drop Duplicates \n",
        "df.drop_duplicates(inplace=True)\n",
        "# TEST\n",
        "df[df.duplicated()]"
      ],
      "metadata": {
        "colab": {
          "base_uri": "https://localhost:8080/",
          "height": 49
        },
        "id": "QlfUgubsMT4J",
        "outputId": "4cc252e1-0d23-431a-b7ab-2300d3c4edb6"
      },
      "execution_count": 98,
      "outputs": [
        {
          "output_type": "execute_result",
          "data": {
            "text/plain": [
              "Empty DataFrame\n",
              "Columns: [Project Name, Project Link]\n",
              "Index: []"
            ],
            "text/html": [
              "\n",
              "  <div id=\"df-46ad56be-03ab-4320-81be-ee70d5c44886\">\n",
              "    <div class=\"colab-df-container\">\n",
              "      <div>\n",
              "<style scoped>\n",
              "    .dataframe tbody tr th:only-of-type {\n",
              "        vertical-align: middle;\n",
              "    }\n",
              "\n",
              "    .dataframe tbody tr th {\n",
              "        vertical-align: top;\n",
              "    }\n",
              "\n",
              "    .dataframe thead th {\n",
              "        text-align: right;\n",
              "    }\n",
              "</style>\n",
              "<table border=\"1\" class=\"dataframe\">\n",
              "  <thead>\n",
              "    <tr style=\"text-align: right;\">\n",
              "      <th></th>\n",
              "      <th>Project Name</th>\n",
              "      <th>Project Link</th>\n",
              "    </tr>\n",
              "  </thead>\n",
              "  <tbody>\n",
              "  </tbody>\n",
              "</table>\n",
              "</div>\n",
              "      <button class=\"colab-df-convert\" onclick=\"convertToInteractive('df-46ad56be-03ab-4320-81be-ee70d5c44886')\"\n",
              "              title=\"Convert this dataframe to an interactive table.\"\n",
              "              style=\"display:none;\">\n",
              "        \n",
              "  <svg xmlns=\"http://www.w3.org/2000/svg\" height=\"24px\"viewBox=\"0 0 24 24\"\n",
              "       width=\"24px\">\n",
              "    <path d=\"M0 0h24v24H0V0z\" fill=\"none\"/>\n",
              "    <path d=\"M18.56 5.44l.94 2.06.94-2.06 2.06-.94-2.06-.94-.94-2.06-.94 2.06-2.06.94zm-11 1L8.5 8.5l.94-2.06 2.06-.94-2.06-.94L8.5 2.5l-.94 2.06-2.06.94zm10 10l.94 2.06.94-2.06 2.06-.94-2.06-.94-.94-2.06-.94 2.06-2.06.94z\"/><path d=\"M17.41 7.96l-1.37-1.37c-.4-.4-.92-.59-1.43-.59-.52 0-1.04.2-1.43.59L10.3 9.45l-7.72 7.72c-.78.78-.78 2.05 0 2.83L4 21.41c.39.39.9.59 1.41.59.51 0 1.02-.2 1.41-.59l7.78-7.78 2.81-2.81c.8-.78.8-2.07 0-2.86zM5.41 20L4 18.59l7.72-7.72 1.47 1.35L5.41 20z\"/>\n",
              "  </svg>\n",
              "      </button>\n",
              "      \n",
              "  <style>\n",
              "    .colab-df-container {\n",
              "      display:flex;\n",
              "      flex-wrap:wrap;\n",
              "      gap: 12px;\n",
              "    }\n",
              "\n",
              "    .colab-df-convert {\n",
              "      background-color: #E8F0FE;\n",
              "      border: none;\n",
              "      border-radius: 50%;\n",
              "      cursor: pointer;\n",
              "      display: none;\n",
              "      fill: #1967D2;\n",
              "      height: 32px;\n",
              "      padding: 0 0 0 0;\n",
              "      width: 32px;\n",
              "    }\n",
              "\n",
              "    .colab-df-convert:hover {\n",
              "      background-color: #E2EBFA;\n",
              "      box-shadow: 0px 1px 2px rgba(60, 64, 67, 0.3), 0px 1px 3px 1px rgba(60, 64, 67, 0.15);\n",
              "      fill: #174EA6;\n",
              "    }\n",
              "\n",
              "    [theme=dark] .colab-df-convert {\n",
              "      background-color: #3B4455;\n",
              "      fill: #D2E3FC;\n",
              "    }\n",
              "\n",
              "    [theme=dark] .colab-df-convert:hover {\n",
              "      background-color: #434B5C;\n",
              "      box-shadow: 0px 1px 3px 1px rgba(0, 0, 0, 0.15);\n",
              "      filter: drop-shadow(0px 1px 2px rgba(0, 0, 0, 0.3));\n",
              "      fill: #FFFFFF;\n",
              "    }\n",
              "  </style>\n",
              "\n",
              "      <script>\n",
              "        const buttonEl =\n",
              "          document.querySelector('#df-46ad56be-03ab-4320-81be-ee70d5c44886 button.colab-df-convert');\n",
              "        buttonEl.style.display =\n",
              "          google.colab.kernel.accessAllowed ? 'block' : 'none';\n",
              "\n",
              "        async function convertToInteractive(key) {\n",
              "          const element = document.querySelector('#df-46ad56be-03ab-4320-81be-ee70d5c44886');\n",
              "          const dataTable =\n",
              "            await google.colab.kernel.invokeFunction('convertToInteractive',\n",
              "                                                     [key], {});\n",
              "          if (!dataTable) return;\n",
              "\n",
              "          const docLinkHtml = 'Like what you see? Visit the ' +\n",
              "            '<a target=\"_blank\" href=https://colab.research.google.com/notebooks/data_table.ipynb>data table notebook</a>'\n",
              "            + ' to learn more about interactive tables.';\n",
              "          element.innerHTML = '';\n",
              "          dataTable['output_type'] = 'display_data';\n",
              "          await google.colab.output.renderOutput(dataTable, element);\n",
              "          const docLink = document.createElement('div');\n",
              "          docLink.innerHTML = docLinkHtml;\n",
              "          element.appendChild(docLink);\n",
              "        }\n",
              "      </script>\n",
              "    </div>\n",
              "  </div>\n",
              "  "
            ]
          },
          "metadata": {},
          "execution_count": 98
        }
      ]
    },
    {
      "cell_type": "code",
      "source": [
        "df['Project Link'] = df['Project Link'].apply(lambda x: '<a href=\"{}\">Paper Source</a>'.format(x))\n",
        "HTML(df.head().to_html(escape=False))"
      ],
      "metadata": {
        "colab": {
          "base_uri": "https://localhost:8080/",
          "height": 206
        },
        "id": "fVvPc76tD5Cg",
        "outputId": "14c92c39-8979-4305-e403-22e2a7b23fd0"
      },
      "execution_count": 99,
      "outputs": [
        {
          "output_type": "execute_result",
          "data": {
            "text/plain": [
              "<IPython.core.display.HTML object>"
            ],
            "text/html": [
              "<table border=\"1\" class=\"dataframe\">\n",
              "  <thead>\n",
              "    <tr style=\"text-align: right;\">\n",
              "      <th></th>\n",
              "      <th>Project Name</th>\n",
              "      <th>Project Link</th>\n",
              "    </tr>\n",
              "  </thead>\n",
              "  <tbody>\n",
              "    <tr>\n",
              "      <th>0</th>\n",
              "      <td>Classification of Medical Imagery using DL (?)</td>\n",
              "      <td><a href=\"http://cs230.stanford.edu/projects_fall_2021/reports/102543599.pdf\">Paper Source</a></td>\n",
              "    </tr>\n",
              "    <tr>\n",
              "      <th>1</th>\n",
              "      <td>In Learning we Truss: Structural Design Optimization Using Deep Learning</td>\n",
              "      <td><a href=\"http://cs230.stanford.edu/projects_fall_2021/reports/102699970.pdf\">Paper Source</a></td>\n",
              "    </tr>\n",
              "    <tr>\n",
              "      <th>2</th>\n",
              "      <td>Predicting Regional US COVID Risk Using Publicly Available Satellite Images</td>\n",
              "      <td><a href=\"http://cs230.stanford.edu/projects_fall_2021/reports/102717926.pdf\">Paper Source</a></td>\n",
              "    </tr>\n",
              "    <tr>\n",
              "      <th>3</th>\n",
              "      <td>Image Exposure Correction with DNN</td>\n",
              "      <td><a href=\"http://cs230.stanford.edu/projects_fall_2021/reports/102730335.pdf\">Paper Source</a></td>\n",
              "    </tr>\n",
              "    <tr>\n",
              "      <th>4</th>\n",
              "      <td>Identifying presence or absence of seismic facies types in geological images using deep learning</td>\n",
              "      <td><a href=\"http://cs230.stanford.edu/projects_fall_2021/reports/102744810.pdf\">Paper Source</a></td>\n",
              "    </tr>\n",
              "  </tbody>\n",
              "</table>"
            ]
          },
          "metadata": {},
          "execution_count": 99
        }
      ]
    },
    {
      "cell_type": "code",
      "source": [
        "# Most repeated 100 words in projects name\n",
        "Counter(\" \".join(df[\"Project Name\"]).split()).most_common(100)"
      ],
      "metadata": {
        "id": "KoWcOl_EF81F"
      },
      "execution_count": null,
      "outputs": []
    },
    {
      "cell_type": "markdown",
      "source": [
        "### Filter and Randomizer "
      ],
      "metadata": {
        "id": "wbYJpIPKN4F4"
      }
    },
    {
      "cell_type": "markdown",
      "source": [
        "**Most repeated words you can search with:**\n",
        ">  - Classification \n",
        " - Recognition \n",
        " - Prediction\n",
        " - Classification\n",
        " - Identification\n",
        " - GANs\n",
        " - CNNs\n",
        " - RNNs \n",
        " - LSTM\n",
        " - Image\n",
        " - Video\n",
        " - Text\n",
        " - Sentiment\n",
        " - Stock\n",
        " - Facial \n",
        " - Medical \n",
        " - MRI\n",
        " - Automatic \n",
        "\n",
        "\n",
        "\n"
      ],
      "metadata": {
        "id": "7s8TLvhpHobE"
      }
    },
    {
      "cell_type": "markdown",
      "source": [
        "#### <font color='green' > I- Project Filter "
      ],
      "metadata": {
        "id": "AISp9pIvVDDz"
      }
    },
    {
      "cell_type": "code",
      "source": [
        "def filter_projects(word: str):\n",
        "    \"\"\"\n",
        "    Filter all projects by the word given by user.\n",
        "    \n",
        "    Arguments:\n",
        "    word -- string, we search about e.g.(detection).\n",
        "    \n",
        "    Returns:\n",
        "    projects -- all projects that contain the word given.\n",
        "    \"\"\"\n",
        "    new_df = df['Project Name'].apply(lambda x: PorterStemmer().stem(word.lower()) in x.lower())\n",
        "    return df[new_df].to_html(escape=False)"
      ],
      "metadata": {
        "id": "9nSgGoCcGIcp"
      },
      "execution_count": 101,
      "outputs": []
    },
    {
      "cell_type": "code",
      "source": [
        "# TEST\n",
        "HTML(filter_projects(word='3D'))"
      ],
      "metadata": {
        "colab": {
          "base_uri": "https://localhost:8080/",
          "height": 739
        },
        "id": "3_0imlJXVB4m",
        "outputId": "565fd178-bb1f-4a6a-a8ad-cdb169b69026"
      },
      "execution_count": 102,
      "outputs": [
        {
          "output_type": "execute_result",
          "data": {
            "text/plain": [
              "<IPython.core.display.HTML object>"
            ],
            "text/html": [
              "<table border=\"1\" class=\"dataframe\">\n",
              "  <thead>\n",
              "    <tr style=\"text-align: right;\">\n",
              "      <th></th>\n",
              "      <th>Project Name</th>\n",
              "      <th>Project Link</th>\n",
              "    </tr>\n",
              "  </thead>\n",
              "  <tbody>\n",
              "    <tr>\n",
              "      <th>42</th>\n",
              "      <td>Mesh: Generating 3D Renderings from 2D Images</td>\n",
              "      <td><a href=\"http://cs230.stanford.edu/projects_fall_2021/reports/103136976.pdf\">Paper Source</a></td>\n",
              "    </tr>\n",
              "    <tr>\n",
              "      <th>138</th>\n",
              "      <td>Improving Generalization Results for 3D Point Cloud Data Reconstruction From 2D Images</td>\n",
              "      <td><a href=\"http://cs230.stanford.edu/projects_winter_2021/reports/70738618.pdf\">Paper Source</a></td>\n",
              "    </tr>\n",
              "    <tr>\n",
              "      <th>147</th>\n",
              "      <td>OSRSNet: Real-time Object Recognition in 3D MMORPGs</td>\n",
              "      <td><a href=\"http://cs230.stanford.edu/projects_winter_2021/reports/70280823.pdf\">Paper Source</a></td>\n",
              "    </tr>\n",
              "    <tr>\n",
              "      <th>249</th>\n",
              "      <td>3d point cloud completion</td>\n",
              "      <td><a href=\"http://cs230.stanford.edu/projects_fall_2020/reports/55429089.pdf\">Paper Source</a></td>\n",
              "    </tr>\n",
              "    <tr>\n",
              "      <th>251</th>\n",
              "      <td>3D object detection</td>\n",
              "      <td><a href=\"http://cs230.stanford.edu/projects_fall_2020/reports/55671263.pdf\">Paper Source</a></td>\n",
              "    </tr>\n",
              "    <tr>\n",
              "      <th>346</th>\n",
              "      <td>Generative Lattice Structures for 3D Printing</td>\n",
              "      <td><a href=\"http://cs230.stanford.edu/projects_spring_2020/reports/38865199.pdf\">Paper Source</a></td>\n",
              "    </tr>\n",
              "    <tr>\n",
              "      <th>418</th>\n",
              "      <td>Activity Recognition Using 3D Human Pose Estimation with Deep Learning</td>\n",
              "      <td><a href=\"http://cs230.stanford.edu/projects_winter_2020/reports/32636548.pdf\">Paper Source</a></td>\n",
              "    </tr>\n",
              "    <tr>\n",
              "      <th>470</th>\n",
              "      <td>Predicting protein inhibition sites through point-cloud atomic encodings and 3D deep convolutional neural networks (Healthcare)</td>\n",
              "      <td><a href=\"http://cs230.stanford.edu/projects_winter_2020/reports/32610279.pdf\">Paper Source</a></td>\n",
              "    </tr>\n",
              "    <tr>\n",
              "      <th>497</th>\n",
              "      <td>2D to 3D Animation Style Transfer</td>\n",
              "      <td><a href=\"http://cs230.stanford.edu/projects_fall_2019/reports/26259410.pdf\">Paper Source</a></td>\n",
              "    </tr>\n",
              "    <tr>\n",
              "      <th>498</th>\n",
              "      <td>3D Object Detection from Point Cloud</td>\n",
              "      <td><a href=\"http://cs230.stanford.edu/projects_fall_2019/reports/26232893.pdf\">Paper Source</a></td>\n",
              "    </tr>\n",
              "    <tr>\n",
              "      <th>499</th>\n",
              "      <td>3D Object Detection in Point Clouds</td>\n",
              "      <td><a href=\"http://cs230.stanford.edu/projects_fall_2019/reports/26258455.pdf\">Paper Source</a></td>\n",
              "    </tr>\n",
              "    <tr>\n",
              "      <th>503</th>\n",
              "      <td>Alzheimer’s Disease Stage Diagnosis, Applying 3D Convolution Neural Networks to MRI Brain Scans</td>\n",
              "      <td><a href=\"http://cs230.stanford.edu/projects_fall_2019/reports/26228995.pdf\">Paper Source</a></td>\n",
              "    </tr>\n",
              "    <tr>\n",
              "      <th>582</th>\n",
              "      <td>Robust 3D Object Tracking in Autonomous Vehicles</td>\n",
              "      <td><a href=\"http://cs230.stanford.edu/projects_fall_2019/reports/26250102.pdf\">Paper Source</a></td>\n",
              "    </tr>\n",
              "    <tr>\n",
              "      <th>809</th>\n",
              "      <td>Band Gap Prediction of 2D Materials from 3D Bulk Counterparts</td>\n",
              "      <td><a href=\"http://cs230.stanford.edu/projects_winter_2019/reports/15812320.pdf\">Paper Source</a></td>\n",
              "    </tr>\n",
              "    <tr>\n",
              "      <th>869</th>\n",
              "      <td>A deep learning approach to predicting knee loading using 3D trajectories of anatomical landmarks</td>\n",
              "      <td><a href=\"https://cs230.stanford.edu/past-projects/../projects_fall_2018/reports/12449648.pdf\">Paper Source</a></td>\n",
              "    </tr>\n",
              "    <tr>\n",
              "      <th>1036</th>\n",
              "      <td>An Exploration of Neural Net Architectures for 3D Region-Proposal Networks and Object Detection</td>\n",
              "      <td><a href=\"https://cs230.stanford.edu/past-projects/../projects_spring_2018/reports/8290491.pdf\">Paper Source</a></td>\n",
              "    </tr>\n",
              "    <tr>\n",
              "      <th>1042</th>\n",
              "      <td>Post-Stroke Lesion Segmentation via 3D-CNN</td>\n",
              "      <td><a href=\"https://cs230.stanford.edu/past-projects/../projects_spring_2018/reports/8284880.pdf\">Paper Source</a></td>\n",
              "    </tr>\n",
              "    <tr>\n",
              "      <th>1070</th>\n",
              "      <td>CNN-based seismic facies classification from 3D seismic data</td>\n",
              "      <td><a href=\"https://cs230.stanford.edu/past-projects/../projects_spring_2018/reports/8291004.pdf\">Paper Source</a></td>\n",
              "    </tr>\n",
              "    <tr>\n",
              "      <th>1089</th>\n",
              "      <td>Detection of Early Stage Lung Cancer from CT-Generated 3D Lung Volumes</td>\n",
              "      <td><a href=\"https://cs230.stanford.edu/past-projects/../projects_spring_2018/reports/8290035.pdf\">Paper Source</a></td>\n",
              "    </tr>\n",
              "    <tr>\n",
              "      <th>1223</th>\n",
              "      <td>Transferring 3D Object Detection and Pose Estimation</td>\n",
              "      <td><a href=\"https://cs230.stanford.edu/past-projects/../files_winter_2018/projects/6931475.pdf\">Paper Source</a></td>\n",
              "    </tr>\n",
              "    <tr>\n",
              "      <th>1275</th>\n",
              "      <td>2D character sketches to 3D models</td>\n",
              "      <td><a href=\"https://cs230.stanford.edu/past-projects/../files_winter_2018/projects/6938180.pdf\">Paper Source</a></td>\n",
              "    </tr>\n",
              "    <tr>\n",
              "      <th>1335</th>\n",
              "      <td>3D Bounding Box Estimation and Recognition of Objects From Multisensor Data using Deep Learning</td>\n",
              "      <td><a href=\"https://cs230.stanford.edu/past-projects/../files_winter_2018/projects/6939556.pdf\">Paper Source</a></td>\n",
              "    </tr>\n",
              "  </tbody>\n",
              "</table>"
            ]
          },
          "metadata": {},
          "execution_count": 102
        }
      ]
    },
    {
      "cell_type": "markdown",
      "source": [
        "#### <font color='green' > II- Project Randomizer"
      ],
      "metadata": {
        "id": "Wc0P6yopVMKA"
      }
    },
    {
      "cell_type": "code",
      "source": [
        "def random_project(word: str, k: int=3):\n",
        "    \"\"\"\n",
        "    Filter number of k projects by the word given by user.\n",
        "    \n",
        "    Arguments:\n",
        "    word -- string, we search about e.g.(detection).\n",
        "    k -- number of projects to return.\n",
        "    \n",
        "    Returns:\n",
        "    k projects -- according to the entered k. \n",
        "    \"\"\"\n",
        "\n",
        "    new_df = df['Project Name'].apply(lambda x: PorterStemmer().stem(word.lower()) in x.lower())\n",
        "    last = df[new_df]\n",
        "    return last.sample(n = k).to_html(escape=False)"
      ],
      "metadata": {
        "id": "NugZWM7pGwca"
      },
      "execution_count": 103,
      "outputs": []
    },
    {
      "cell_type": "code",
      "source": [
        "# TEST\n",
        "HTML(random_project(word='MRI', k=2))"
      ],
      "metadata": {
        "colab": {
          "base_uri": "https://localhost:8080/",
          "height": 112
        },
        "id": "K1MDEzF9Op_a",
        "outputId": "a64d1ed1-4142-4399-dfce-193dce75d35f"
      },
      "execution_count": 104,
      "outputs": [
        {
          "output_type": "execute_result",
          "data": {
            "text/plain": [
              "<IPython.core.display.HTML object>"
            ],
            "text/html": [
              "<table border=\"1\" class=\"dataframe\">\n",
              "  <thead>\n",
              "    <tr style=\"text-align: right;\">\n",
              "      <th></th>\n",
              "      <th>Project Name</th>\n",
              "      <th>Project Link</th>\n",
              "    </tr>\n",
              "  </thead>\n",
              "  <tbody>\n",
              "    <tr>\n",
              "      <th>1337</th>\n",
              "      <td>Alzheimer's Disease Levels Diagnosis from Brain MRI Images</td>\n",
              "      <td><a href=\"https://cs230.stanford.edu/past-projects/../files_winter_2018/projects/6934021.pdf\">Paper Source</a></td>\n",
              "    </tr>\n",
              "    <tr>\n",
              "      <th>909</th>\n",
              "      <td>Through Thick and Thin: MRI Super-Resolution Using a Generative Adversarial Network</td>\n",
              "      <td><a href=\"https://cs230.stanford.edu/past-projects/../projects_fall_2018/reports/12449264.pdf\">Paper Source</a></td>\n",
              "    </tr>\n",
              "  </tbody>\n",
              "</table>"
            ]
          },
          "metadata": {},
          "execution_count": 104
        }
      ]
    }
  ]
}