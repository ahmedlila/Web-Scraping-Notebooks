{
  "nbformat": 4,
  "nbformat_minor": 0,
  "metadata": {
    "colab": {
      "name": "CS230: DL Projects Scraper.ipynb",
      "provenance": [],
      "collapsed_sections": [
        "spO7EfctG9hB",
        "HjNG1iTCN0xv"
      ],
      "authorship_tag": "ABX9TyOTHfzepR6eoKQo21HwESmR",
      "include_colab_link": true
    },
    "kernelspec": {
      "name": "python3",
      "display_name": "Python 3"
    },
    "language_info": {
      "name": "python"
    }
  },
  "cells": [
    {
      "cell_type": "markdown",
      "metadata": {
        "id": "view-in-github",
        "colab_type": "text"
      },
      "source": [
        "<a href=\"https://colab.research.google.com/github/ahmedlila/Web-Scraping-Notebooks/blob/main/CS230%20-%20DL%20Projects%20Scraper.ipynb\" target=\"_parent\"><img src=\"https://colab.research.google.com/assets/colab-badge.svg\" alt=\"Open In Colab\"/></a>"
      ]
    },
    {
      "cell_type": "markdown",
      "source": [
        "### Import Libraries Needed "
      ],
      "metadata": {
        "id": "spO7EfctG9hB"
      }
    },
    {
      "cell_type": "code",
      "source": [
        "pip install validators"
      ],
      "metadata": {
        "colab": {
          "base_uri": "https://localhost:8080/"
        },
        "id": "eBCIXRGGA33-",
        "outputId": "3c73c5a8-c283-4628-e5f0-00f96c865663"
      },
      "execution_count": null,
      "outputs": [
        {
          "output_type": "stream",
          "name": "stdout",
          "text": [
            "Collecting validators\n",
            "  Downloading validators-0.19.0.tar.gz (30 kB)\n",
            "Requirement already satisfied: decorator>=3.4.0 in /usr/local/lib/python3.7/dist-packages (from validators) (4.4.2)\n",
            "Building wheels for collected packages: validators\n",
            "  Building wheel for validators (setup.py) ... \u001b[?25l\u001b[?25hdone\n",
            "  Created wheel for validators: filename=validators-0.19.0-py3-none-any.whl size=19553 sha256=063f36507b4e0dbc15c5a85f28b6ba61f225abb118153df85067a7b811c218d5\n",
            "  Stored in directory: /root/.cache/pip/wheels/fe/5d/69/ff53a908b9f14fb7730a58fdede0fac4cdc99ef3624ec76d05\n",
            "Successfully built validators\n",
            "Installing collected packages: validators\n",
            "Successfully installed validators-0.19.0\n"
          ]
        }
      ]
    },
    {
      "cell_type": "code",
      "source": [
        "import validators\n",
        "from validators import ValidationFailure\n",
        "from urllib.request import urlopen\n",
        "from bs4 import BeautifulSoup\n",
        "import pandas as pd\n",
        "from tabulate import tabulate\n",
        "from collections import Counter\n",
        "from nltk.stem import PorterStemmer"
      ],
      "metadata": {
        "id": "MsZb2X7eHBYv"
      },
      "execution_count": null,
      "outputs": []
    },
    {
      "cell_type": "markdown",
      "source": [
        "### Helpers"
      ],
      "metadata": {
        "id": "HjNG1iTCN0xv"
      }
    },
    {
      "cell_type": "code",
      "source": [
        "# Function source code: https://miguendes.me/how-to-check-if-a-string-is-a-valid-url-in-python\n",
        "def is_string_an_url(url_string: str) -> bool:\n",
        "    result = validators.url(url_string)\n",
        "    if isinstance(result, ValidationFailure):\n",
        "        return False\n",
        "    return result"
      ],
      "metadata": {
        "id": "y006-a_1Bdus"
      },
      "execution_count": null,
      "outputs": []
    },
    {
      "cell_type": "code",
      "source": [
        "base_directory = \"https://cs230.stanford.edu/past-projects/\"\n",
        "html = urlopen(base_directory)\n",
        "bsObj = BeautifulSoup(html, features=\"html.parser\")\n",
        "project_links, project_names = list(), list()\n",
        "\n",
        "for project_name in bsObj.findAll(\"strong\"):\n",
        "    project_name_text = project_name.get_text()\n",
        "    link = project_name.find_next_siblings(\"a\")\n",
        "\n",
        "    if link:  # if list is not empty\n",
        "        #get the report and check if the url is ok \n",
        "        path = link[0].attrs['href']\n",
        "        link_text = link[0].get_text()\n",
        "        html = is_string_an_url(path)\n",
        "\n",
        "        if link_text =='report':  # select reports only\n",
        "            if html:\n",
        "                project_links.append(path)\n",
        "                project_names.append(project_name_text)\n",
        "            else:\n",
        "                project_links.append(base_directory+path)\n",
        "                project_names.append(project_name_text)"
      ],
      "metadata": {
        "id": "amtSzROZ3tao"
      },
      "execution_count": null,
      "outputs": []
    },
    {
      "cell_type": "code",
      "source": [
        "# TEST\n",
        "project_links[3]"
      ],
      "metadata": {
        "colab": {
          "base_uri": "https://localhost:8080/",
          "height": 36
        },
        "id": "X5Ku-FwEC9Je",
        "outputId": "1006765b-de11-45e8-f767-d41f2d974e81"
      },
      "execution_count": null,
      "outputs": [
        {
          "output_type": "execute_result",
          "data": {
            "text/plain": [
              "'http://cs230.stanford.edu/projects_fall_2021/reports/102730335.pdf'"
            ],
            "application/vnd.google.colaboratory.intrinsic+json": {
              "type": "string"
            }
          },
          "metadata": {},
          "execution_count": 166
        }
      ]
    },
    {
      "cell_type": "code",
      "source": [
        "# Creat Dataframe\n",
        "df = pd.DataFrame({'Project Name': project_names, \n",
        "                   'Project Link': project_links})"
      ],
      "metadata": {
        "id": "nYeiTUKkC90Y"
      },
      "execution_count": null,
      "outputs": []
    },
    {
      "cell_type": "code",
      "source": [
        "#Drop Duplicates \n",
        "df.drop_duplicates(inplace=True)\n",
        "# TEST\n",
        "df[df.duplicated()]"
      ],
      "metadata": {
        "colab": {
          "base_uri": "https://localhost:8080/",
          "height": 49
        },
        "id": "QlfUgubsMT4J",
        "outputId": "56fe9b09-36f5-4b6c-e8e6-36fd9c89d61c"
      },
      "execution_count": null,
      "outputs": [
        {
          "output_type": "execute_result",
          "data": {
            "text/plain": [
              "Empty DataFrame\n",
              "Columns: [Project Name, Project Link]\n",
              "Index: []"
            ],
            "text/html": [
              "\n",
              "  <div id=\"df-bf7aa8d8-c8bf-4bfe-90d4-ebb616b91ba7\">\n",
              "    <div class=\"colab-df-container\">\n",
              "      <div>\n",
              "<style scoped>\n",
              "    .dataframe tbody tr th:only-of-type {\n",
              "        vertical-align: middle;\n",
              "    }\n",
              "\n",
              "    .dataframe tbody tr th {\n",
              "        vertical-align: top;\n",
              "    }\n",
              "\n",
              "    .dataframe thead th {\n",
              "        text-align: right;\n",
              "    }\n",
              "</style>\n",
              "<table border=\"1\" class=\"dataframe\">\n",
              "  <thead>\n",
              "    <tr style=\"text-align: right;\">\n",
              "      <th></th>\n",
              "      <th>Project Name</th>\n",
              "      <th>Project Link</th>\n",
              "    </tr>\n",
              "  </thead>\n",
              "  <tbody>\n",
              "  </tbody>\n",
              "</table>\n",
              "</div>\n",
              "      <button class=\"colab-df-convert\" onclick=\"convertToInteractive('df-bf7aa8d8-c8bf-4bfe-90d4-ebb616b91ba7')\"\n",
              "              title=\"Convert this dataframe to an interactive table.\"\n",
              "              style=\"display:none;\">\n",
              "        \n",
              "  <svg xmlns=\"http://www.w3.org/2000/svg\" height=\"24px\"viewBox=\"0 0 24 24\"\n",
              "       width=\"24px\">\n",
              "    <path d=\"M0 0h24v24H0V0z\" fill=\"none\"/>\n",
              "    <path d=\"M18.56 5.44l.94 2.06.94-2.06 2.06-.94-2.06-.94-.94-2.06-.94 2.06-2.06.94zm-11 1L8.5 8.5l.94-2.06 2.06-.94-2.06-.94L8.5 2.5l-.94 2.06-2.06.94zm10 10l.94 2.06.94-2.06 2.06-.94-2.06-.94-.94-2.06-.94 2.06-2.06.94z\"/><path d=\"M17.41 7.96l-1.37-1.37c-.4-.4-.92-.59-1.43-.59-.52 0-1.04.2-1.43.59L10.3 9.45l-7.72 7.72c-.78.78-.78 2.05 0 2.83L4 21.41c.39.39.9.59 1.41.59.51 0 1.02-.2 1.41-.59l7.78-7.78 2.81-2.81c.8-.78.8-2.07 0-2.86zM5.41 20L4 18.59l7.72-7.72 1.47 1.35L5.41 20z\"/>\n",
              "  </svg>\n",
              "      </button>\n",
              "      \n",
              "  <style>\n",
              "    .colab-df-container {\n",
              "      display:flex;\n",
              "      flex-wrap:wrap;\n",
              "      gap: 12px;\n",
              "    }\n",
              "\n",
              "    .colab-df-convert {\n",
              "      background-color: #E8F0FE;\n",
              "      border: none;\n",
              "      border-radius: 50%;\n",
              "      cursor: pointer;\n",
              "      display: none;\n",
              "      fill: #1967D2;\n",
              "      height: 32px;\n",
              "      padding: 0 0 0 0;\n",
              "      width: 32px;\n",
              "    }\n",
              "\n",
              "    .colab-df-convert:hover {\n",
              "      background-color: #E2EBFA;\n",
              "      box-shadow: 0px 1px 2px rgba(60, 64, 67, 0.3), 0px 1px 3px 1px rgba(60, 64, 67, 0.15);\n",
              "      fill: #174EA6;\n",
              "    }\n",
              "\n",
              "    [theme=dark] .colab-df-convert {\n",
              "      background-color: #3B4455;\n",
              "      fill: #D2E3FC;\n",
              "    }\n",
              "\n",
              "    [theme=dark] .colab-df-convert:hover {\n",
              "      background-color: #434B5C;\n",
              "      box-shadow: 0px 1px 3px 1px rgba(0, 0, 0, 0.15);\n",
              "      filter: drop-shadow(0px 1px 2px rgba(0, 0, 0, 0.3));\n",
              "      fill: #FFFFFF;\n",
              "    }\n",
              "  </style>\n",
              "\n",
              "      <script>\n",
              "        const buttonEl =\n",
              "          document.querySelector('#df-bf7aa8d8-c8bf-4bfe-90d4-ebb616b91ba7 button.colab-df-convert');\n",
              "        buttonEl.style.display =\n",
              "          google.colab.kernel.accessAllowed ? 'block' : 'none';\n",
              "\n",
              "        async function convertToInteractive(key) {\n",
              "          const element = document.querySelector('#df-bf7aa8d8-c8bf-4bfe-90d4-ebb616b91ba7');\n",
              "          const dataTable =\n",
              "            await google.colab.kernel.invokeFunction('convertToInteractive',\n",
              "                                                     [key], {});\n",
              "          if (!dataTable) return;\n",
              "\n",
              "          const docLinkHtml = 'Like what you see? Visit the ' +\n",
              "            '<a target=\"_blank\" href=https://colab.research.google.com/notebooks/data_table.ipynb>data table notebook</a>'\n",
              "            + ' to learn more about interactive tables.';\n",
              "          element.innerHTML = '';\n",
              "          dataTable['output_type'] = 'display_data';\n",
              "          await google.colab.output.renderOutput(dataTable, element);\n",
              "          const docLink = document.createElement('div');\n",
              "          docLink.innerHTML = docLinkHtml;\n",
              "          element.appendChild(docLink);\n",
              "        }\n",
              "      </script>\n",
              "    </div>\n",
              "  </div>\n",
              "  "
            ]
          },
          "metadata": {},
          "execution_count": 139
        }
      ]
    },
    {
      "cell_type": "code",
      "source": [
        "print(tabulate(df.head(), headers='keys', tablefmt='psql'))"
      ],
      "metadata": {
        "colab": {
          "base_uri": "https://localhost:8080/"
        },
        "id": "fVvPc76tD5Cg",
        "outputId": "0666e5da-cb7a-45c7-e08a-346b97927fee"
      },
      "execution_count": null,
      "outputs": [
        {
          "output_type": "stream",
          "name": "stdout",
          "text": [
            "+----+--------------------------------------------------------------------------------------------------+--------------------------------------------------------------------+\n",
            "|    | Project Name                                                                                     | Project Link                                                       |\n",
            "|----+--------------------------------------------------------------------------------------------------+--------------------------------------------------------------------|\n",
            "|  0 | Classification of Medical Imagery using DL (?)                                                   | http://cs230.stanford.edu/projects_fall_2021/reports/102543599.pdf |\n",
            "|  1 | In Learning we Truss: Structural Design Optimization Using Deep Learning                         | http://cs230.stanford.edu/projects_fall_2021/reports/102699970.pdf |\n",
            "|  2 | Predicting Regional US COVID Risk Using Publicly Available Satellite Images                      | http://cs230.stanford.edu/projects_fall_2021/reports/102717926.pdf |\n",
            "|  3 | Image Exposure Correction with DNN                                                               | http://cs230.stanford.edu/projects_fall_2021/reports/102730335.pdf |\n",
            "|  4 | Identifying presence or absence of seismic facies types in geological images using deep learning | http://cs230.stanford.edu/projects_fall_2021/reports/102744810.pdf |\n",
            "+----+--------------------------------------------------------------------------------------------------+--------------------------------------------------------------------+\n"
          ]
        }
      ]
    },
    {
      "cell_type": "code",
      "source": [
        "# Most repeated 100 words in projects name\n",
        "Counter(\" \".join(df[\"Project Name\"]).split()).most_common(100)"
      ],
      "metadata": {
        "colab": {
          "base_uri": "https://localhost:8080/"
        },
        "id": "KoWcOl_EF81F",
        "outputId": "70937625-0288-4597-e3bb-4940cb762053"
      },
      "execution_count": null,
      "outputs": [
        {
          "output_type": "execute_result",
          "data": {
            "text/plain": [
              "[('Deep', 251),\n",
              " ('for', 250),\n",
              " ('Learning', 213),\n",
              " ('of', 206),\n",
              " ('with', 155),\n",
              " ('and', 143),\n",
              " ('in', 142),\n",
              " ('using', 128),\n",
              " ('Neural', 120),\n",
              " ('to', 117),\n",
              " ('Using', 93),\n",
              " ('Predicting', 93),\n",
              " ('from', 90),\n",
              " ('the', 88),\n",
              " ('Networks', 85),\n",
              " ('Classification', 81),\n",
              " ('on', 77),\n",
              " ('Detection', 73),\n",
              " ('Image', 69),\n",
              " ('Prediction', 56),\n",
              " ('Recognition', 53),\n",
              " ('Images', 50),\n",
              " ('A', 49),\n",
              " ('a', 47),\n",
              " ('Network', 45),\n",
              " ('Convolutional', 37),\n",
              " ('Generation', 35),\n",
              " ('Segmentation', 32),\n",
              " ('Data', 30),\n",
              " ('Transfer', 30),\n",
              " ('Music', 29),\n",
              " ('Adversarial', 28),\n",
              " ('Approach', 27),\n",
              " ('Stock', 26),\n",
              " ('Generative', 26),\n",
              " ('Satellite', 25),\n",
              " ('CNN', 25),\n",
              " ('Object', 24),\n",
              " ('Automated', 23),\n",
              " ('Style', 23),\n",
              " ('Generating', 22),\n",
              " ('based', 22),\n",
              " ('Language', 22),\n",
              " ('learning', 21),\n",
              " ('detection', 21),\n",
              " ('Identifying', 20),\n",
              " ('Analysis', 20),\n",
              " ('Text', 20),\n",
              " ('data', 20),\n",
              " ('3D', 20),\n",
              " ('Detecting', 20),\n",
              " ('Imagery', 19),\n",
              " ('deep', 19),\n",
              " ('Human', 19),\n",
              " ('neural', 19),\n",
              " ('Video', 19),\n",
              " ('-', 18),\n",
              " ('via', 18),\n",
              " ('GANs', 18),\n",
              " ('networks', 17),\n",
              " ('by', 17),\n",
              " ('Automatic', 17),\n",
              " ('Identification', 17),\n",
              " ('Model', 15),\n",
              " ('image', 15),\n",
              " ('Brain', 15),\n",
              " ('Based', 15),\n",
              " ('CNNs', 15),\n",
              " ('images', 14),\n",
              " ('Predict', 14),\n",
              " ('Time', 14),\n",
              " ('Reinforcement', 14),\n",
              " ('Chest', 14),\n",
              " ('through', 14),\n",
              " ('Translation', 14),\n",
              " ('MRI', 13),\n",
              " ('System', 13),\n",
              " ('Audio', 13),\n",
              " ('News', 13),\n",
              " ('Face', 12),\n",
              " ('Modeling', 12),\n",
              " ('LSTM', 12),\n",
              " ('Synthesis', 12),\n",
              " ('Estimation', 12),\n",
              " ('Classifying', 12),\n",
              " ('Models', 12),\n",
              " ('Recurrent', 12),\n",
              " ('An', 12),\n",
              " ('Price', 12),\n",
              " ('GAN', 12),\n",
              " ('Sentiment', 11),\n",
              " ('Application', 11),\n",
              " ('COVID-19', 11),\n",
              " ('Improving', 11),\n",
              " ('Facial', 11),\n",
              " ('classification', 11),\n",
              " ('Cancer', 11),\n",
              " ('Medical', 10),\n",
              " ('Dataset', 10),\n",
              " ('Generator', 10)]"
            ]
          },
          "metadata": {},
          "execution_count": 141
        }
      ]
    },
    {
      "cell_type": "markdown",
      "source": [
        "### Filter and Randomizer "
      ],
      "metadata": {
        "id": "wbYJpIPKN4F4"
      }
    },
    {
      "cell_type": "markdown",
      "source": [
        "**Most repeated words you can search with:**\n",
        ">  - Classification \n",
        " - Recognition \n",
        " - Prediction\n",
        " - Classification\n",
        " - Identification\n",
        " - GANs\n",
        " - CNNs\n",
        " - RNNs \n",
        " - LSTM\n",
        " - Image\n",
        " - Video\n",
        " - Text\n",
        " - Sentiment\n",
        " - Stock\n",
        " - Facial \n",
        " - Medical \n",
        " - MRI\n",
        " - Automatic \n",
        "\n",
        "\n",
        "\n"
      ],
      "metadata": {
        "id": "7s8TLvhpHobE"
      }
    },
    {
      "cell_type": "markdown",
      "source": [
        "#### <font color='green' > I- Project Filter "
      ],
      "metadata": {
        "id": "AISp9pIvVDDz"
      }
    },
    {
      "cell_type": "code",
      "source": [
        "def filter_projects(word: str):\n",
        "    \"\"\"\n",
        "    Filter all projects by the word given by user.\n",
        "    \n",
        "    Arguments:\n",
        "    word -- string, we search about e.g.(detection).\n",
        "    \n",
        "    Returns:\n",
        "    projects -- all projects that contain the word given.\n",
        "    \"\"\"\n",
        "    new_df = df['Project Name'].apply(lambda x: PorterStemmer().stem(word.lower()) in x.lower())\n",
        "    print(tabulate(df[new_df], headers='keys', tablefmt='psql'))"
      ],
      "metadata": {
        "id": "9nSgGoCcGIcp"
      },
      "execution_count": null,
      "outputs": []
    },
    {
      "cell_type": "code",
      "source": [
        "# TEST\n",
        "filter_projects(word='3D')"
      ],
      "metadata": {
        "colab": {
          "base_uri": "https://localhost:8080/"
        },
        "id": "3_0imlJXVB4m",
        "outputId": "b16b0efd-a6d5-4d53-ea92-5ff337698ed5"
      },
      "execution_count": null,
      "outputs": [
        {
          "output_type": "stream",
          "name": "stdout",
          "text": [
            "+------+---------------------------------------------------------------------------------------------------------------------------------+--------------------------------------------------------------------------------------+\n",
            "|      | Project Name                                                                                                                    | Project Link                                                                         |\n",
            "|------+---------------------------------------------------------------------------------------------------------------------------------+--------------------------------------------------------------------------------------|\n",
            "|   42 | Mesh: Generating 3D Renderings from 2D Images                                                                                   | http://cs230.stanford.edu/projects_fall_2021/reports/103136976.pdf                   |\n",
            "|  138 | Improving Generalization Results for 3D Point Cloud Data Reconstruction From 2D Images                                          | http://cs230.stanford.edu/projects_winter_2021/reports/70738618.pdf                  |\n",
            "|  147 | OSRSNet: Real-time Object Recognition in 3D MMORPGs                                                                             | http://cs230.stanford.edu/projects_winter_2021/reports/70280823.pdf                  |\n",
            "|  249 | 3d point cloud completion                                                                                                       | http://cs230.stanford.edu/projects_fall_2020/reports/55429089.pdf                    |\n",
            "|  251 | 3D object detection                                                                                                             | http://cs230.stanford.edu/projects_fall_2020/reports/55671263.pdf                    |\n",
            "|  346 | Generative Lattice Structures for 3D Printing                                                                                   | http://cs230.stanford.edu/projects_spring_2020/reports/38865199.pdf                  |\n",
            "|  418 | Activity Recognition Using 3D Human Pose Estimation with Deep Learning                                                          | http://cs230.stanford.edu/projects_winter_2020/reports/32636548.pdf                  |\n",
            "|  470 | Predicting protein inhibition sites through point-cloud atomic encodings and 3D deep convolutional neural networks (Healthcare) | http://cs230.stanford.edu/projects_winter_2020/reports/32610279.pdf                  |\n",
            "|  497 | 2D to 3D Animation Style Transfer                                                                                               | http://cs230.stanford.edu/projects_fall_2019/reports/26259410.pdf                    |\n",
            "|  498 | 3D Object Detection from Point Cloud                                                                                            | http://cs230.stanford.edu/projects_fall_2019/reports/26232893.pdf                    |\n",
            "|  499 | 3D Object Detection in Point Clouds                                                                                             | http://cs230.stanford.edu/projects_fall_2019/reports/26258455.pdf                    |\n",
            "|  503 | Alzheimer’s Disease Stage Diagnosis, Applying 3D Convolution Neural Networks to MRI Brain Scans                                 | http://cs230.stanford.edu/projects_fall_2019/reports/26228995.pdf                    |\n",
            "|  582 | Robust 3D Object Tracking in Autonomous Vehicles                                                                                | http://cs230.stanford.edu/projects_fall_2019/reports/26250102.pdf                    |\n",
            "|  809 | Band Gap Prediction of 2D Materials from 3D Bulk Counterparts                                                                   | http://cs230.stanford.edu/projects_winter_2019/reports/15812320.pdf                  |\n",
            "|  869 | A deep learning approach to predicting knee loading using 3D trajectories of anatomical landmarks                               | https://cs230.stanford.edu/past-projects/../projects_fall_2018/reports/12449648.pdf  |\n",
            "| 1036 | An Exploration of Neural Net Architectures for 3D Region-Proposal Networks and Object Detection                                 | https://cs230.stanford.edu/past-projects/../projects_spring_2018/reports/8290491.pdf |\n",
            "| 1042 | Post-Stroke Lesion Segmentation via 3D-CNN                                                                                      | https://cs230.stanford.edu/past-projects/../projects_spring_2018/reports/8284880.pdf |\n",
            "| 1070 | CNN-based seismic facies classification from 3D seismic data                                                                    | https://cs230.stanford.edu/past-projects/../projects_spring_2018/reports/8291004.pdf |\n",
            "| 1089 | Detection of Early Stage Lung Cancer from CT-Generated 3D Lung Volumes                                                          | https://cs230.stanford.edu/past-projects/../projects_spring_2018/reports/8290035.pdf |\n",
            "| 1223 | Transferring 3D Object Detection and Pose Estimation                                                                            | https://cs230.stanford.edu/past-projects/../files_winter_2018/projects/6931475.pdf   |\n",
            "| 1275 | 2D character sketches to 3D models                                                                                              | https://cs230.stanford.edu/past-projects/../files_winter_2018/projects/6938180.pdf   |\n",
            "| 1335 | 3D Bounding Box Estimation and Recognition of Objects From Multisensor Data using Deep Learning                                 | https://cs230.stanford.edu/past-projects/../files_winter_2018/projects/6939556.pdf   |\n",
            "+------+---------------------------------------------------------------------------------------------------------------------------------+--------------------------------------------------------------------------------------+\n"
          ]
        }
      ]
    },
    {
      "cell_type": "markdown",
      "source": [
        "#### <font color='green' > II- Project Randomizer"
      ],
      "metadata": {
        "id": "Wc0P6yopVMKA"
      }
    },
    {
      "cell_type": "code",
      "source": [
        "def random_project(word: str, k: int=3):\n",
        "    \"\"\"\n",
        "    Filter number of k projects by the word given by user.\n",
        "    \n",
        "    Arguments:\n",
        "    word -- string, we search about e.g.(detection).\n",
        "    k -- number of projects to return.\n",
        "    \n",
        "    Returns:\n",
        "    k projects -- according to the entered k. \n",
        "    \"\"\"\n",
        "\n",
        "    new_df = df['Project Name'].apply(lambda x: PorterStemmer().stem(word.lower()) in x.lower())\n",
        "    last = df[new_df]\n",
        "    print(tabulate(last.sample(n = k), headers='keys', tablefmt='psql'))"
      ],
      "metadata": {
        "id": "NugZWM7pGwca"
      },
      "execution_count": null,
      "outputs": []
    },
    {
      "cell_type": "code",
      "source": [
        "# TEST\n",
        "random_project(word='MRI', k=2)"
      ],
      "metadata": {
        "colab": {
          "base_uri": "https://localhost:8080/"
        },
        "id": "K1MDEzF9Op_a",
        "outputId": "660d270e-f9fe-474c-b644-1693526d1108"
      },
      "execution_count": null,
      "outputs": [
        {
          "output_type": "stream",
          "name": "stdout",
          "text": [
            "+-----+-------------------------------------------------------------------------------------+-------------------------------------------------------------------------------------+\n",
            "|     | Project Name                                                                        | Project Link                                                                        |\n",
            "|-----+-------------------------------------------------------------------------------------+-------------------------------------------------------------------------------------|\n",
            "| 909 | Through Thick and Thin: MRI Super-Resolution Using a Generative Adversarial Network | https://cs230.stanford.edu/past-projects/../projects_fall_2018/reports/12449264.pdf |\n",
            "| 126 | Brain Aneurysm Classification/Segmentation from MRI Images using MONAI Framework    | http://cs230.stanford.edu/projects_winter_2021/reports/70747002.pdf                 |\n",
            "+-----+-------------------------------------------------------------------------------------+-------------------------------------------------------------------------------------+\n"
          ]
        }
      ]
    }
  ]
}